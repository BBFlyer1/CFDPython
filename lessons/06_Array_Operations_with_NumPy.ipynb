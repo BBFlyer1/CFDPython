{
 "cells": [
  {
   "cell_type": "markdown",
   "metadata": {},
   "source": [
    "Text provided under a Creative Commons Attribution license, CC-BY. All code is made available under the FSF-approved BSD-3 license. (c) Lorena A. Barba, Gilbert F. Forsyth 2017. Thanks to NSF for support via CAREER award #1149784.\n",
    "<p><a href=\"https://twitter.com/LorenaABarba\">@LorenaABarba</a></p>\n",
    "<p>This lesson complements the online CFDPython class, by Prof. Lorena A. Barba called <b>12 Steps to Navier-Stokes</b>.  It was written by Prof. Barba with BU Graduate Student Gilbert Forsyth.</p>\n",
    "<p>  It has been modified by BBFlyer1 as part of the CFDPython Class.</p>\n",
    "\n",
    "<h1>Array Operations with Numpy</h1>\n",
    "<p>Computation using arrays can be performed using for loops.  However for larger arrays, using the Numpy Array operations can significantly increase execution speed many times over. Here is a simple example using the following equation.  </p>\n",
    "<img class=\"math math-display\" alt=\"$$u^{n+1}_i = u^n_i-u^n_{i-1}$$\" src=\"https://render.githubusercontent.com/render/math?math=u%5E%7Bn%2B1%7D_i%20%3D%20u%5En_i-u%5En_%7Bi-1%7D&amp;mode=display\">\n",
    "<p>Now given a vector $u^n=[0,1,2,3,4,5]\\\\$ we can calculate the various values of U^(n+1) by iterating over the values of Un with a loop."
   ]
  },
  {
   "cell_type": "code",
   "execution_count": 2,
   "metadata": {},
   "outputs": [
    {
     "name": "stdout",
     "output_type": "stream",
     "text": [
      "1\n",
      "1\n",
      "1\n",
      "1\n",
      "1\n"
     ]
    }
   ],
   "source": [
    "import numpy\n",
    "\n",
    "u = numpy.array((0,1,2,3,4,5))\n",
    "\n",
    "for i in range(1, len(u)):\n",
    "    print(u[i] - u[i-1])"
   ]
  },
  {
   "cell_type": "markdown",
   "metadata": {},
   "source": [
    "This is the expected result and the execution was nearly instantaneous.  If the same operation is done using the array operation rather than calculating the differences 5 separate times as above, we can get the result with one operation."
   ]
  },
  {
   "cell_type": "code",
   "execution_count": 3,
   "metadata": {},
   "outputs": [
    {
     "data": {
      "text/plain": [
       "array([1, 1, 1, 1, 1])"
      ]
     },
     "execution_count": 3,
     "metadata": {},
     "output_type": "execute_result"
    }
   ],
   "source": [
    "u[1:] - u[0:-1]"
   ]
  },
  {
   "cell_type": "markdown",
   "metadata": {},
   "source": [
    "What this command says is to subtract the 0th, 1st, 2nd, 3rd, 4th, and 5th element of u from the 1st, 2nd, 3rd, 4th, 5th and 6th element of u.  \n",
    "<p><b>Speed Increases</b></p>\n",
    "On a 6 element array, on my Windows 10 computer, this array computation was visibly faster than the for loop calculation.  When the computations are for 100s or 1000s of elements, this speed enhancement will make a substantial difference in whether the calculation is even feasible or not.  Now lets take a look at the speed difference of a 2D linear convection case.   First we will assign our variables."
   ]
  },
  {
   "cell_type": "code",
   "execution_count": 5,
   "metadata": {},
   "outputs": [],
   "source": [
    "nx = 81\n",
    "ny = 81\n",
    "nt = 100\n",
    "c = 1\n",
    "dx = 2/(nx-1)\n",
    "dy = 2/(ny-1)\n",
    "sigma = 0.2\n",
    "dt = sigma * dx\n",
    "\n",
    "x = numpy.linspace(0, 2, nx)\n",
    "y = numpy.linspace(0, 2, ny)\n",
    "\n",
    "u = numpy.ones((ny, nx)) ##Create a 1xn, vector of 1's\n",
    "un = numpy.ones((ny, nx)) ##Create a 1yn, vector of 1's\n",
    "\n",
    "### Assign initial conditions\n",
    "u[int(0.5 / dy): int(1 / dy +1), int(0.5 / dx): int(1 / dx +1) ] = 2"
   ]
  },
  {
   "cell_type": "markdown",
   "metadata": {},
   "source": [
    "With our initial conditions now set, let's first try running our original nested loop code and timing it with the iPython \"magic\" function <code>%%timeit</code>, which will help evaluate the speed of our code.\n",
    "<p><strong>Note:</strong> The <code>%%timeit</code> magic function will run the code several times and compute an average time as a result.  If you have figures or other outputs inside the timed code, these will plot or print repeatly which can be a bit messy.</p>\n",
    "\n",
    "The execution times given below vary from machine to machine and are unlikely to match those of your machine.  However, you should see some reduction in the time required when we switch to computation using arrays."
   ]
  },
  {
   "cell_type": "code",
   "execution_count": 7,
   "metadata": {},
   "outputs": [
    {
     "name": "stdout",
     "output_type": "stream",
     "text": [
      "2 s ± 108 ms per loop (mean ± std. dev. of 7 runs, 1 loop each)\n"
     ]
    }
   ],
   "source": [
    "%%timeit\n",
    "#Initialize our array u\n",
    "u = numpy.ones((ny, nx))\n",
    "u[int(0.5 / dy): int(1 / dy +1), int(0.5 / dx): int(1 / dx +1) ] = 2\n",
    "\n",
    "for n in range (nt + 1): ##loop across the number of time steps.\n",
    "    un = u.copy()\n",
    "    row, col = u.shape\n",
    "    for j in range (1,row):\n",
    "        for i in range(1,col):\n",
    "            u[j,i] = (u[j,i] - (c * dt / dx *\n",
    "                                (un[j,i] - un[j,i-1]))-\n",
    "                                (c * dt / dy *\n",
    "                                 (un[j,i] - un[j-1,i])))\n",
    "        u[0, :]  = 1\n",
    "        u[-1, :] = 1\n",
    "        u[:, 0]  = 1\n",
    "        u[:, -1]  = 1"
   ]
  },
  {
   "cell_type": "markdown",
   "metadata": {},
   "source": [
    "When the \"raw\" Python code above, the mean execution on my Windows 10 laptop was ~2 seconds mean for 7 loops, a little slower than Dr. Barba's example which ran a best of 1.94 seconds for 3 loops.  Now let us compare the speed of this computation using arrays instead of nested loops."
   ]
  },
  {
   "cell_type": "code",
   "execution_count": 11,
   "metadata": {},
   "outputs": [
    {
     "name": "stdout",
     "output_type": "stream",
     "text": [
      "14.4 ms ± 1.19 ms per loop (mean ± std. dev. of 7 runs, 100 loops each)\n"
     ]
    }
   ],
   "source": [
    "%%timeit\n",
    "#Initialize our array u\n",
    "u = numpy.ones((ny, nx))\n",
    "u[int(0.5 / dy): int(1 / dy +1), int(0.5 / dx): int(1 / dx + 1) ] = 2\n",
    "\n",
    "for n in range(nt + 1): ##loop across the number of time steps.\n",
    "    un = u.copy()\n",
    "    u[1:, 1:] = un[1:, 1:] -((c * dt / dx * (un[1:, 1:] - un[1:, 0:-1]))-\n",
    "                             (c * dt / dy * (un[1:, 1:] - un[0:-1, 1:])))\n",
    "    u[0, :]  = 1\n",
    "    u[-1, :] = 1\n",
    "    u[:, 0]  = 1\n",
    "    u[:, -1]  = 1"
   ]
  },
  {
   "cell_type": "markdown",
   "metadata": {},
   "source": [
    "As you can see, the 14.4 ms speed increase for the array function was a significant over the 2 seconds \"for\" loop.  This was very good, even though it was significantly slower than the 5.09 ms for Dr. Barba's results.  2 seconds is not a huge amount of time, but these speeds will increase exponentially as the size and complexity of the problem being evaluated increase."
   ]
  },
  {
   "cell_type": "code",
   "execution_count": null,
   "metadata": {},
   "outputs": [],
   "source": [
    "from IPython.core.display import HTML\n",
    "def css_styling():\n",
    "    styles = open(\"../styles/custom.css\", \"r\").read()\n",
    "    return HTML(styles)\n",
    "css_styling()"
   ]
  }
 ],
 "metadata": {
  "kernelspec": {
   "display_name": "Python 3",
   "language": "python",
   "name": "python3"
  },
  "language_info": {
   "codemirror_mode": {
    "name": "ipython",
    "version": 3
   },
   "file_extension": ".py",
   "mimetype": "text/x-python",
   "name": "python",
   "nbconvert_exporter": "python",
   "pygments_lexer": "ipython3",
   "version": "3.7.1"
  }
 },
 "nbformat": 4,
 "nbformat_minor": 2
}
